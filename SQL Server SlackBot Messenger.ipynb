{
    "metadata": {
        "kernelspec": {
            "name": "python3",
            "display_name": "Python 3"
        },
        "language_info": {
            "name": "python",
            "version": "3.6.6",
            "mimetype": "text/x-python",
            "codemirror_mode": {
                "name": "ipython",
                "version": 3
            },
            "pygments_lexer": "ipython3",
            "nbconvert_exporter": "python",
            "file_extension": ".py"
        }
    },
    "nbformat_minor": 2,
    "nbformat": 4,
    "cells": [
        {
            "cell_type": "markdown",
            "source": [
                "#  Slack Bot Creation\r\n",
                "##  slack api \r\n",
                "create a new Slack Bot go to api.slack.com and click on the top right corner option of *your apps*\r\n",
                "\r\n",
                "On the your apps page you can click on the button **Create an App** \r\n",
                " a menu option comes up and select create from scratch.\r\n",
                "\r\n",
                " Next option page gives the opportunity to choose the Name and which work space to install the App in.  I would reccomend developing this off your main production systems at first then once established moving the code to a more professional environment. \r\n",
                "\r\n",
                " To configure the application you are building click on the option of Bots.\r\n",
                "\r\n",
                " and review the scopes to Add\r\n",
                "\r\n",
                "Under the item Scopes \r\n",
                "click **Add an OAuth Scope** \r\n",
                "in this presentation we will only be using the *chat:write* Scope, the other options add a more features that you could use for example to look up your users in the channel for example but this will not be covered in this presentation.\r\n",
                "\r\n",
                "Once the Scope has been selected click the button at the top of the page **Install to WorkSpace**. and then the Allow button.\r\n",
                "\r\n",
                "The Bot User Auth Token should be copied at this point and will be used in the next step.\r\n",
                "![Picture of the OAuth Token](https://drive.google.com/file/d/1teJrPlkRwAhwalMjEn2Ytrv349dw8CW3/view?usp=sharing)\r\n",
                "\r\n",
                "\r\n",
                "Do not share this Token,  this will allow other to send mesages to your Channels.\r\n",
                " "
            ],
            "metadata": {
                "azdata_cell_guid": "c1af5464-dfa4-43ad-8a73-c3a4e59f644f"
            }
        },
        {
            "cell_type": "markdown",
            "source": [
                "##  Install your new application to Slack\r\n",
                "\r\n",
                "Once you now have the api created in your workspace you can install it to a Channel. \r\n",
                "\r\n",
                "I would reccomend creating a new Channel at first to run the application through it's paces.  \r\n",
                "\r\n",
                "Goto the channel and click on the Channel options,  The down arrow on the heading or all members of this channel.  Click on the sub heading Integrations.  Under the Apps tab,  click **Add an App**.\r\n",
                "\r\n",
                "You will have a list of all the apps you have created and several other pre made apps.  Select the App that you created. and click Add.\r\n",
                ""
            ],
            "metadata": {
                "azdata_cell_guid": "69a7b73d-2594-4bd6-bdd7-8c7eea1f9f95"
            }
        },
        {
            "cell_type": "markdown",
            "source": [
                "##  Installing the Slack container Python library\r\n",
                "\r\n",
                "I have found the best way to test my implementation is to use Azure Data Studio first.  This does mean adding a package to the installed python packages.  This in AZDS is to click on the Manage Packages option at the top of the AZDS page when the Python 3 Kernel is selected.  Then search for the SlackClient **Add New**  to install.\r\n",
                "\r\n",
                "To add the packages to an on Premise SQL Server.  you need to go to the Server and navigate to the folder *Program Files\\Microsoft SQL Server\\<Instance>\\Python Services\\scripts*  The command to install the package is\r\n",
                "\r\n",
                "`pip install slackclient`\r\n",
                "\r\n",
                "This would need to be carried with administration level privelledges.\r\n",
                ""
            ],
            "metadata": {
                "azdata_cell_guid": "9d100468-76d6-4971-a1a9-b1cb25c6ae7d"
            }
        }
    ]
}