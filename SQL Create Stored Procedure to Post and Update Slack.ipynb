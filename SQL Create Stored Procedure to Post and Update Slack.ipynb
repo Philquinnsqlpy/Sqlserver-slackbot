{
    "metadata": {
        "kernelspec": {
            "name": "SQL",
            "display_name": "SQL",
            "language": "sql"
        },
        "language_info": {
            "name": "sql",
            "version": ""
        },
        "extensions": {
            "azuredatastudio": {
                "version": 1,
                "views": []
            }
        }
    },
    "nbformat_minor": 2,
    "nbformat": 4,
    "cells": [
        {
            "cell_type": "markdown",
            "source": [
                "# Create Slack Procedures for SQL Server\n",
                "\n",
                "## Adding the Token for slack into a Table\n",
                "\n",
                "The following table holds the slack token, It would be best if the token is stored in an encrypted manner and decrypted when called by the application. As this is example code this is not done in this example. additionally the stored procedure would also be signed so that it can be used without needing elevated permissions to be accessed."
            ],
            "metadata": {
                "azdata_cell_guid": "dd681591-0af2-4950-b1c7-e4eb08de7c61"
            },
            "attachments": {}
        },
        {
            "cell_type": "code",
            "source": [
                "Use master\r\n",
                "\r\n",
                "CREATE TABLE SlackParams\r\n",
                "(\r\n",
                "    Token_name NVARCHAR(80),\r\n",
                "    Information NVARCHAR(80)\r\n",
                ")"
            ],
            "metadata": {
                "azdata_cell_guid": "9578b67b-f668-4aaf-9b68-4dbbc6d8b690"
            },
            "outputs": [],
            "execution_count": null
        },
        {
            "cell_type": "code",
            "source": [
                "INSERT INTO SlackParams (Token_Name, Information)\r\n",
                "VALUES ('SLACK_BG_TOKEN','tokenstring from api.Slack.com ')"
            ],
            "metadata": {
                "azdata_cell_guid": "808b6f2b-39c7-4448-ad48-55acf4596da5"
            },
            "outputs": [],
            "execution_count": null
        },
        {
            "cell_type": "markdown",
            "source": [
                "# PostMessages\n",
                "\n",
                "Post messages require 2 parametres to be passed to it.  Channel Name or Channel ID and the Message you want to send. The Channel parameter can either be the Channel Name of the Channel ID.  The Channel name is easier to identify,  however the PostMessage command in python returns the ChannelID.  If you are wanting to edit the message later this is useful to store and repost.  The Second required parameter is the Message.  This is text in Markdown language."
            ],
            "metadata": {
                "azdata_cell_guid": "8074dcee-3f46-44ce-96f9-9778d6332d75"
            },
            "attachments": {}
        },
        {
            "cell_type": "code",
            "source": [
                "CREATE OR ALTER PROCEDURE slackToChannel\r\n",
                "@Channel NVARCHAR(200) = '#dba' OUTPUT,\r\n",
                "@ThreadId NVARCHAR(200) = '' OUTPUT,\r\n",
                "@Message NVARCHAR(MAX),\r\n",
                "@Update bit = FALSE\r\n",
                "AS\r\n",
                "BEGIN\r\n",
                "    DECLARE @PythonCode NVARCHAR(MAX)\r\n",
                "    DECLARE @CertId NVARCHAR(80)\r\n",
                "    DECLARE @ThreadInfo VARCHAR(500)\r\n",
                "\r\n",
                "    SELECT @CertId = Information\r\n",
                "    FROM master.dbo.SlackParams\r\n",
                "    WHERE Token_Name = 'SLACK_BG_TOKEN'\r\n",
                "\r\n",
                "    IF (@Update = 0) \r\n",
                "    BEGIN \r\n",
                "    --New Message\r\n",
                "        IF @threadId IS NULL OR @threadId = ''\r\n",
                "        BEGIN  \r\n",
                "            SET @ThreadInfo = ''\r\n",
                "        END\r\n",
                "        ELSE    \r\n",
                "        BEGIN \r\n",
                "            SET @threadInfo = ' , thread_ts = \"' + @ThreadId + '\"'\r\n",
                "        END\r\n",
                "        \r\n",
                "            SET @PythonCode = N'import slack\r\n",
                "# token is taken from the table Params  and entered in thepython script below.\r\n",
                "client = slack.WebClient(token=''' + @CertId + ''')\r\n",
                "\r\n",
                "#  post to channel submitted to the proc @channel \r\n",
                "MessageReturn = client.chat_postMessage(channel=\"' + @Channel + '\", text=\"' + @Message + '\"' + @threadInfo + ')\r\n",
                "\r\n",
                "thread_ts = MessageReturn[\"ts\"]\r\n",
                "channelid = MessageReturn[\"channel\"]\r\n",
                "'\r\n",
                "\r\n",
                "        EXECUTE sp_execute_external_script @language = N'Python',\r\n",
                "                @script = @PythonCode,\r\n",
                "                @params = N'@thread_ts VARCHAR(200) OUTPUT, @channelid VARCHAR(200) OUTPUT',\r\n",
                "                @channelid = @Channel OUTPUT, @thread_ts = @threadId OUTPUT\r\n",
                "    END\r\n",
                "    ELSE\r\n",
                "    BEGIN \r\n",
                "    --Update a Message\r\n",
                "        IF @threadId IS NULL OR @threadId = ''\r\n",
                "        BEGIN   \r\n",
                "            PRINT 'Thread Id required to update a message!!'\r\n",
                "        END\r\n",
                "        ELSE\r\n",
                "        BEGIN\r\n",
                "            SET @threadInfo = ' , ts = \"' + @threadId + '\"'\r\n",
                "            SET @PythonCode = N'import slack\r\n",
                "client = slack.WebClient(token=''' + @CertId  + ''')\r\n",
                "\r\n",
                "#update message posted to Channel\r\n",
                "MessageReturn = client.chat_update(channel=''' + @Channel + ''', text=\"' + @Message + '\"' + @threadInfo + ')\r\n",
                "\r\n",
                "thread_ts = MessageReturn[\"ts\"]\r\n",
                "channelid = MessageReturn[\"channel\"]'\r\n",
                "            EXECUTE sp_execute_external_script @language = N'Python',\r\n",
                "                @script = @PythonCode,\r\n",
                "                @params = N'@thread_ts VARCHAR(200) OUTPUT, @channelid VARCHAR(200) OUTPUT',\r\n",
                "                @channelid = @Channel OUTPUT, @thread_ts = @threadId OUTPUT\r\n",
                "\r\n",
                "\r\n",
                "        END\r\n",
                "    END\r\n",
                "    print @PythonCode\r\n",
                "END"
            ],
            "metadata": {
                "azdata_cell_guid": "a25a00a7-f26f-480d-bdae-ce35225a94f8"
            },
            "outputs": [],
            "execution_count": null
        },
        {
            "cell_type": "code",
            "source": [
                "EXEC slackToChannel @Channel = 'sqlserverslack', @Message = 'Hello World'"
            ],
            "metadata": {
                "azdata_cell_guid": "44619b32-60c3-4c2d-a6b0-fe3386a5867b"
            },
            "outputs": [],
            "execution_count": null
        }
    ]
}
