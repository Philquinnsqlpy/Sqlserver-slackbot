{
    "metadata": {
        "kernelspec": {
            "name": "python3",
            "display_name": "Python 3"
        },
        "language_info": {
            "name": "python",
            "version": ""
        }
    },
    "nbformat_minor": 2,
    "nbformat": 4,
    "cells": [
        {
            "cell_type": "markdown",
            "source": [
                "## Installing Slack Client package on to SQL Server\r\n",
                "\r\n",
                "The Slack bot requires the python package Slack Client to be installed  This can be done using the following notebook."
            ],
            "metadata": {
                "azdata_cell_guid": "2076898a-3a9b-4144-8e37-63ce5358ef3a"
            }
        },
        {
            "cell_type": "code",
            "source": [
                "import sqlmlutils\r\n",
                "\r\n",
                "connection = sqlmlutils.ConnectionInfo(server=\"sql server\", database=\"master\")\r\n",
                "\r\n",
                "sqlmlutils.SQLPackageManager(connection).install(\"SlackClient\")"
            ],
            "metadata": {
                "azdata_cell_guid": "9b503b11-e068-4550-8577-50112dde0255",
                "tags": []
            },
            "outputs": [],
            "execution_count": null
        }
    ]
}