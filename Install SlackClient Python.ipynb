{
    "metadata": {
        "kernelspec": {
            "name": "python3",
            "display_name": "Python 3 (ipykernel)",
            "language": "python"
        },
        "language_info": {
            "name": "python",
<<<<<<< HEAD
            "version": "3.8.10",
            "mimetype": "text/x-python",
            "codemirror_mode": {
                "name": "ipython",
                "version": 3
            },
            "pygments_lexer": "ipython3",
            "nbconvert_exporter": "python",
            "file_extension": ".py"
        },
        "extensions": {
            "azuredatastudio": {
                "version": 1,
                "views": []
            }
=======
            "version": ""
>>>>>>> 6ab7a09ca4c2f06f98dac73d477d80baf8222eaa
        }
    },
    "nbformat_minor": 2,
    "nbformat": 4,
    "cells": [
        {
            "cell_type": "markdown",
            "source": [
                "## Installing Slack Client package on to SQL Server\r\n",
                "\r\n",
                "The Slack bot requires the python package Slack Client to be installed  This can be done using the following notebook."
            ],
            "metadata": {
                "azdata_cell_guid": "2076898a-3a9b-4144-8e37-63ce5358ef3a",
                "extensions": {
                    "azuredatastudio": {
                        "views": []
                    }
                }
            }
        },
        {
            "cell_type": "code",
            "source": [
                "import sqlmlutils\r\n",
                "\r\n",
                "connection = sqlmlutils.ConnectionInfo(server=\"TABLET-J6GHDVBR\", database=\"master\")\r\n",
                "\r\n",
                "sqlmlutils.SQLPackageManager(connection).install(\"Slack\")"
            ],
            "metadata": {
                "azdata_cell_guid": "9b503b11-e068-4550-8577-50112dde0255",
<<<<<<< HEAD
                "extensions": {
                    "azuredatastudio": {
                        "views": []
                    }
                }
=======
                "tags": []
>>>>>>> 6ab7a09ca4c2f06f98dac73d477d80baf8222eaa
            },
            "outputs": [
{
    "name": "stdout",
    "text": "Installing dependencies...\nDone with dependencies, installing main package...\nInstalling slack version: 0.0.2\n",
    "output_type": "stream"
}
],
            "execution_count": 2
        }
    ]
}