{
    "metadata": {
        "kernelspec": {
            "name": "SQL",
            "display_name": "SQL",
            "language": "sql"
        },
        "language_info": {
            "name": "sql",
            "version": ""
        }
    },
    "nbformat_minor": 2,
    "nbformat": 4,
    "cells": [
        {
            "cell_type": "markdown",
            "source": [
                "# Testing the Slack integration"
            ],
            "metadata": {
                "azdata_cell_guid": "2c7760e6-e92b-447f-9a84-b6ad4614e5cb"
            }
        },
        {
            "cell_type": "code",
            "source": [
                "import slack\r\n",
                "\r\n",
                "\r\n",
                "#initialize client with the token.\r\n",
                "client = slack.WebClient(token = \"<insert token here>\" )\r\n",
                "#Send the message to Slack\r\n",
                "client.chat_postMessage(channel=\"#bot-integration\", text= \"Hello World\")"
            ],
            "metadata": {
                "azdata_cell_guid": "dba31159-1e31-4c33-8a2b-0663b081f0d6"
            },
            "outputs": [],
            "execution_count": null
        }
    ]
}