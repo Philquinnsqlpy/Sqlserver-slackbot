{
    "metadata": {
        "kernelspec": {
            "name": "SQL",
            "display_name": "SQL",
            "language": "sql"
        },
        "language_info": {
            "name": "sql",
            "version": ""
        }
    },
    "nbformat_minor": 2,
    "nbformat": 4,
    "cells": [
        {
            "cell_type": "markdown",
            "source": [
                "# Testing the Slack integration"
            ],
            "metadata": {
                "azdata_cell_guid": "2c7760e6-e92b-447f-9a84-b6ad4614e5cb"
            }
        },
        {
            "cell_type": "markdown",
            "source": [
                "simple test to see if the integration is working."
            ],
            "metadata": {
                "azdata_cell_guid": "ac76e830-8dd0-4beb-a943-b76b585fa546"
            }
        },
        {
            "cell_type": "code",
            "source": [
                "import slack\r\n",
                "\r\n",
                "\r\n",
                "#initialize client with the token.\r\n",
                "client = slack.WebClient(token = \"<insert token here>\" )\r\n",
                "#Send the message to Slack\r\n",
                "client.chat_postMessage(channel=\"#bot-integration\", text= \"Hello World\")"
            ],
            "metadata": {
                "azdata_cell_guid": "dba31159-1e31-4c33-8a2b-0663b081f0d6"
            },
            "outputs": [],
            "execution_count": null
        },
        {
            "cell_type": "markdown",
            "source": [
                "Show the ability to post under an initial message."
            ],
            "metadata": {
                "azdata_cell_guid": "6be23fe6-bd77-4074-ac1e-fe9d8d708594"
            }
        },
        {
            "cell_type": "code",
            "source": [
                "import slack\r\n",
                "\r\n",
                "#initialize client with the token.\r\n",
                "client = slack.WebClient(token = \"<insert token here>\" )\r\n",
                "\r\n",
                "MessageReturn = client.chat_postMessage(channel = '#bot-integration', test=\"Hi\")\r\n",
                "thread_ts = MessageReturn[\"ts\"]\r\n",
                "\r\n",
                "#Send message in a conversation of original post.\r\n",
                "client.chat_postMessage(channel=\"#bot-integration\" test=\"goodbye\", ts= thread_ts)\r\n",
                "\r\n",
                "# in Slack Message will appear as\r\n",
                "# Hi\r\n",
                "#    goodbye"
            ],
            "metadata": {
                "azdata_cell_guid": "69289be3-3284-4df7-9ce0-9c767eda0136"
            },
            "outputs": [],
            "execution_count": null
        },
        {
            "cell_type": "markdown",
            "source": [
                "Show updating a message."
            ],
            "metadata": {
                "azdata_cell_guid": "63f9e2c1-ac3c-418d-b01f-f5b6e1ebc298"
            }
        },
        {
            "cell_type": "code",
            "source": [
                "import slack\r\n",
                "\r\n",
                "#initialize client with the token.\r\n",
                "client = slack.WebClient(token = \"<insert token here>\" )\r\n",
                "\r\n",
                "MessageReturn = client.chat_postMessage(channel = '#bot-integration', test=\"Hi\")\r\n",
                "thread_ts = MessageReturn[\"ts\"]\r\n",
                "channel_id = MessageReturn[\"channel\"]\r\n",
                "\r\n",
                "client.chat_update(channel=Channel_id, Text=\"Hello\", ts=thread_ts)\r\n",
                "\r\n",
                "#Final output will be \r\n",
                "# Hello"
            ],
            "metadata": {
                "azdata_cell_guid": "d1e84b61-3238-4b88-8b70-a58d34ed4f2d"
            },
            "outputs": [],
            "execution_count": null
        }
    ]
}